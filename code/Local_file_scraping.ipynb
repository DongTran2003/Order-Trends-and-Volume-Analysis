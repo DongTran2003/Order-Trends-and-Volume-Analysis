{
 "cells": [
  {
   "cell_type": "code",
   "execution_count": 1,
   "metadata": {},
   "outputs": [],
   "source": [
    "import csv\n",
    "from bs4 import BeautifulSoup"
   ]
  },
  {
   "cell_type": "code",
   "execution_count": 8,
   "metadata": {},
   "outputs": [
    {
     "name": "stdout",
     "output_type": "stream",
     "text": [
      "✅ CSV file created successfully!\n"
     ]
    }
   ],
   "source": [
    "with open(r\"D:\\download\\1688.html\", \"r\", encoding=\"gb18030\", errors=\"replace\") as file:\n",
    "    html_content = file.read()\n",
    "\n",
    "soup = BeautifulSoup(html_content, 'html.parser')\n",
    "\n",
    "data = []\n",
    "listBox = soup.find('div', id='listBox')\n",
    "orders = listBox.find_all('li', class_='order-item') if listBox else []\n",
    "\n",
    "for order in orders:\n",
    "    title = order.find('div', class_='order-title')\n",
    "\n",
    "    #retrive order number\n",
    "    order_id_span = title.find(\"span\", class_=\"order-id\") if title else None\n",
    "    order_number = order_id_span.text.replace(\"订单号：\", \"\").strip() if order_id_span else \"No Order ID\"\n",
    "\n",
    "    #retrieve order date\n",
    "    date_span = title.find('span', class_='date')\n",
    "    date = date_span.text.strip() if date_span else 'No date'\n",
    "\n",
    "    #retrieve supplier's detail\n",
    "    supplier_tag = title.find('a', class_='bannerCorp')\n",
    "\n",
    "    #retrieve the supplier name\n",
    "    supplier_name = supplier_tag['data-copytitle'] if supplier_tag else 'No name'\n",
    "\n",
    "    #retrieve supplier's link\n",
    "    supplier_link = supplier_tag['href'] if supplier_tag else 'No link'\n",
    "\n",
    "    # retrieve detaild of each item\n",
    "    order_detail = order.find('div', class_='order-detail')\n",
    "\n",
    "    \n",
    "    #retrieve total paid\n",
    "    total_td = order_detail.find('td', class_='s6')\n",
    "\n",
    "    # without discount\n",
    "    total_no_discount_tag = total_td.find('div', class_='sum-payment-original text-lesser') if total_td else None\n",
    "    total_no_discount = total_no_discount_tag.text.strip() if total_no_discount_tag else 'No total'\n",
    "\n",
    "    # with discount\n",
    "    total_w_discount_tag = total_td.find('div', class_='total') if total_td else None\n",
    "    total_w_discount = total_w_discount_tag.text.strip() if total_w_discount_tag else 'No total'\n",
    "\n",
    "    # Extract item in the order\n",
    "    items = order_detail.find_all('tr', style=True) if order_detail else []\n",
    "\n",
    "    for item in items:\n",
    "        # retrieve image_url\n",
    "        image_td = item.find('td', class_='s1')\n",
    "        image_tag = image_td.find('img') if image_td else None\n",
    "        image = 'D:/download' + image_tag['src'] if image_tag else 'No image'\n",
    "\n",
    "        #extract product link\n",
    "        product_td = item.find(\"td\", class_=\"s2\")\n",
    "        product_link_tag = product_td.find(\"a\", class_=\"productName\") if product_td else None\n",
    "        product_link = product_link_tag[\"href\"] if product_link_tag else \"No Link\"\n",
    "\n",
    "        #retrieve price\n",
    "        price_td = item.find('td', class_='s3')\n",
    "        price_tag = price_td.find('div', {\"data-unit-price\": \"isbuyer\"}) if price_td else None\n",
    "        price = price_tag.text.strip() if price_tag else 'No price'\n",
    "\n",
    "        #retrieve quantity\n",
    "        quantity_td = item.find('td', class_='s4')\n",
    "        quantity = quantity_td.text.strip() if quantity_td else 'No quantity'\n",
    "\n",
    "        data.append([order_number, date, supplier_name, supplier_link, image, product_link, price, quantity, total_no_discount, total_w_discount])\n",
    "\n",
    "\n",
    "with open(\"all_orders.csv\", \"w\", newline=\"\", encoding=\"utf-8-sig\") as file:\n",
    "    writer = csv.writer(file)\n",
    "    writer.writerow(['order_id', 'date', 'supplier', 'supplier_link', 'image', 'product_link', 'price', 'quantity', 'total_before_discount', 'total_after_discount'])\n",
    "    writer.writerows(data)\n",
    "\n",
    "print(\"✅ CSV file created successfully!\")\n"
   ]
  }
 ],
 "metadata": {
  "kernelspec": {
   "display_name": "Python 3",
   "language": "python",
   "name": "python3"
  },
  "language_info": {
   "codemirror_mode": {
    "name": "ipython",
    "version": 3
   },
   "file_extension": ".py",
   "mimetype": "text/x-python",
   "name": "python",
   "nbconvert_exporter": "python",
   "pygments_lexer": "ipython3",
   "version": "3.12.7"
  }
 },
 "nbformat": 4,
 "nbformat_minor": 2
}
