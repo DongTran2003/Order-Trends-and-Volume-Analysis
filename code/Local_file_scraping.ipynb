{
 "cells": [
  {
   "cell_type": "code",
   "execution_count": 16,
   "metadata": {},
   "outputs": [],
   "source": [
    "import csv\n",
    "from bs4 import BeautifulSoup"
   ]
  },
  {
   "cell_type": "code",
   "execution_count": null,
   "metadata": {},
   "outputs": [],
   "source": [
    "with open(r\"D:\\download\\test.html\", \"r\", errors=\"replace\") as file:\n",
    "    html_content = file.read()\n",
    "\n",
    "soup = BeautifulSoup(html_content, 'html.parser')\n",
    "\n",
    "data = []\n",
    "listBox = soup.find('div', id='listBox')\n",
    "orders = listBox.find_all('li', class_='order-item') if listBox else []\n",
    "\n",
    "for order in orders:\n",
    "    title = order.find('div', class_='order-title')\n",
    "\n",
    "    #retrive order number\n",
    "    orderID_span = title.find('span', class_='order-id')\n",
    "    orderNum = orderID_span.text.replace('订单号：', '').strip()  if orderID_span else 'No order ID'\n",
    "\n",
    "    #retrieve order date\n",
    "    date_span = title.find('span', class_='date')\n",
    "    date = date_span.text.strip() if date_span else 'No date'\n",
    "\n",
    "    #retrieve \n",
    "    # Extract item in the order\n",
    "    order_detail = order.find('div', class_='order-detail')\n",
    "    items = order_detail.find_all('tr', style=' ') if order_detail else []\n",
    "\n",
    "    for item in items:\n",
    "        # retrieve image_url\n",
    "        image_td = item.find('td', class_='s1')\n",
    "        image_tag = image_td.find('img') if image_td else None\n",
    "        image = '/D:/download' + image_tag['src'] if image_tag else 'No image'\n",
    "\n",
    "        #retrieve price\n",
    "        price_td = item.find('td', class_='s3')\n",
    "        price_tag = price_td.find('div', {\"data-unit-price\": \"isbuyer\"}) if price_td else None\n",
    "        price = price_tag.text.strip() if price_tag else 'No price'\n",
    "\n",
    "        #retrieve quantity\n",
    "        quantity_td = item.find('td', class_='s4')\n",
    "        quantity = quantity_td.text.strip() if quantity_td else 'No quantity'\n",
    "\n",
    "        #retrieve total paid \n",
    "        total_td = item.find('div', class_='s6')\n",
    "\n",
    "        # without discount\n",
    "        total_no_discount_tag = total_td.find('div', class_='sum-payment-original text-lesser') if total_td else None\n",
    "        total_no_discount = total_no_discount_tag.text.strip() if total_no_discount_tag else 'No total'\n",
    "\n",
    "        # with discount\n",
    "        total_w_discount_tag = total_td.find('div', class_='total') if total_td else None\n",
    "        total_w_discount = total_w_discount_tag.text.strip() if total_w_discount_tag else 'No total'\n",
    "\n",
    "\n",
    "\n",
    "\n",
    "\n",
    "\n",
    "\n",
    "\n",
    "\n",
    "\n"
   ]
  }
 ],
 "metadata": {
  "kernelspec": {
   "display_name": "Python 3",
   "language": "python",
   "name": "python3"
  },
  "language_info": {
   "codemirror_mode": {
    "name": "ipython",
    "version": 3
   },
   "file_extension": ".py",
   "mimetype": "text/x-python",
   "name": "python",
   "nbconvert_exporter": "python",
   "pygments_lexer": "ipython3",
   "version": "3.12.7"
  }
 },
 "nbformat": 4,
 "nbformat_minor": 2
}
